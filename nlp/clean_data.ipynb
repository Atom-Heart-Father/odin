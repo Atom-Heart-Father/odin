{
 "metadata": {
  "language_info": {
   "codemirror_mode": {
    "name": "ipython",
    "version": 3
   },
   "file_extension": ".py",
   "mimetype": "text/x-python",
   "name": "python",
   "nbconvert_exporter": "python",
   "pygments_lexer": "ipython3",
   "version": "3.8.9"
  },
  "orig_nbformat": 2,
  "kernelspec": {
   "name": "python389jvsc74a57bd0764e043cf10b64b4ecddf9f434c4f6de8da37d4bba18ccd7d9146df9b85e3bdc",
   "display_name": "Python 3.8.9 64-bit"
  },
  "metadata": {
   "interpreter": {
    "hash": "764e043cf10b64b4ecddf9f434c4f6de8da37d4bba18ccd7d9146df9b85e3bdc"
   }
  }
 },
 "nbformat": 4,
 "nbformat_minor": 2,
 "cells": [
  {
   "cell_type": "code",
   "execution_count": 2,
   "metadata": {},
   "outputs": [],
   "source": [
    "import pandas as pd\n",
    "import numpy as np"
   ]
  },
  {
   "cell_type": "code",
   "execution_count": 20,
   "metadata": {},
   "outputs": [],
   "source": [
    "yes = pd.read_json(\"data\\intents\\Get deployment details - yes_usersays_en.json\")"
   ]
  },
  {
   "cell_type": "code",
   "execution_count": 21,
   "metadata": {},
   "outputs": [
    {
     "output_type": "execute_result",
     "data": {
      "text/plain": [
       "                                     id  \\\n",
       "0  8a76441a-8cbd-4b99-8a1f-bb4c1f18dfdc   \n",
       "1  0083ef88-2868-43a8-8944-3e098dd55c7a   \n",
       "2  7aac036a-55e5-468a-9f43-c8dbb456ff73   \n",
       "3  89d7ed15-c76c-4cae-af40-053b39489a45   \n",
       "4  f4d597c8-d098-46da-89fe-1a12f425cd58   \n",
       "\n",
       "                                                data  isTemplate  count  \\\n",
       "0            [{'text': 'yes', 'userDefined': False}]       False      1   \n",
       "1    [{'text': 'okay I will', 'userDefined': False}]       False      2   \n",
       "2        [{'text': 'why not', 'userDefined': False}]       False      0   \n",
       "3  [{'text': 'yes that's alright', 'userDefined':...       False      0   \n",
       "4       [{'text': 'yes I do', 'userDefined': False}]       False      0   \n",
       "\n",
       "   updated  \n",
       "0        0  \n",
       "1        0  \n",
       "2        0  \n",
       "3        0  \n",
       "4        0  "
      ],
      "text/html": "<div>\n<style scoped>\n    .dataframe tbody tr th:only-of-type {\n        vertical-align: middle;\n    }\n\n    .dataframe tbody tr th {\n        vertical-align: top;\n    }\n\n    .dataframe thead th {\n        text-align: right;\n    }\n</style>\n<table border=\"1\" class=\"dataframe\">\n  <thead>\n    <tr style=\"text-align: right;\">\n      <th></th>\n      <th>id</th>\n      <th>data</th>\n      <th>isTemplate</th>\n      <th>count</th>\n      <th>updated</th>\n    </tr>\n  </thead>\n  <tbody>\n    <tr>\n      <th>0</th>\n      <td>8a76441a-8cbd-4b99-8a1f-bb4c1f18dfdc</td>\n      <td>[{'text': 'yes', 'userDefined': False}]</td>\n      <td>False</td>\n      <td>1</td>\n      <td>0</td>\n    </tr>\n    <tr>\n      <th>1</th>\n      <td>0083ef88-2868-43a8-8944-3e098dd55c7a</td>\n      <td>[{'text': 'okay I will', 'userDefined': False}]</td>\n      <td>False</td>\n      <td>2</td>\n      <td>0</td>\n    </tr>\n    <tr>\n      <th>2</th>\n      <td>7aac036a-55e5-468a-9f43-c8dbb456ff73</td>\n      <td>[{'text': 'why not', 'userDefined': False}]</td>\n      <td>False</td>\n      <td>0</td>\n      <td>0</td>\n    </tr>\n    <tr>\n      <th>3</th>\n      <td>89d7ed15-c76c-4cae-af40-053b39489a45</td>\n      <td>[{'text': 'yes that's alright', 'userDefined':...</td>\n      <td>False</td>\n      <td>0</td>\n      <td>0</td>\n    </tr>\n    <tr>\n      <th>4</th>\n      <td>f4d597c8-d098-46da-89fe-1a12f425cd58</td>\n      <td>[{'text': 'yes I do', 'userDefined': False}]</td>\n      <td>False</td>\n      <td>0</td>\n      <td>0</td>\n    </tr>\n  </tbody>\n</table>\n</div>"
     },
     "metadata": {},
     "execution_count": 21
    }
   ],
   "source": [
    "yes.head()"
   ]
  },
  {
   "cell_type": "code",
   "execution_count": 22,
   "metadata": {},
   "outputs": [],
   "source": [
    "yes = pd.DataFrame(yes.data)"
   ]
  },
  {
   "cell_type": "code",
   "execution_count": 23,
   "metadata": {},
   "outputs": [
    {
     "output_type": "execute_result",
     "data": {
      "text/plain": [
       "                                                data\n",
       "0            [{'text': 'yes', 'userDefined': False}]\n",
       "1    [{'text': 'okay I will', 'userDefined': False}]\n",
       "2        [{'text': 'why not', 'userDefined': False}]\n",
       "3  [{'text': 'yes that's alright', 'userDefined':...\n",
       "4       [{'text': 'yes I do', 'userDefined': False}]"
      ],
      "text/html": "<div>\n<style scoped>\n    .dataframe tbody tr th:only-of-type {\n        vertical-align: middle;\n    }\n\n    .dataframe tbody tr th {\n        vertical-align: top;\n    }\n\n    .dataframe thead th {\n        text-align: right;\n    }\n</style>\n<table border=\"1\" class=\"dataframe\">\n  <thead>\n    <tr style=\"text-align: right;\">\n      <th></th>\n      <th>data</th>\n    </tr>\n  </thead>\n  <tbody>\n    <tr>\n      <th>0</th>\n      <td>[{'text': 'yes', 'userDefined': False}]</td>\n    </tr>\n    <tr>\n      <th>1</th>\n      <td>[{'text': 'okay I will', 'userDefined': False}]</td>\n    </tr>\n    <tr>\n      <th>2</th>\n      <td>[{'text': 'why not', 'userDefined': False}]</td>\n    </tr>\n    <tr>\n      <th>3</th>\n      <td>[{'text': 'yes that's alright', 'userDefined':...</td>\n    </tr>\n    <tr>\n      <th>4</th>\n      <td>[{'text': 'yes I do', 'userDefined': False}]</td>\n    </tr>\n  </tbody>\n</table>\n</div>"
     },
     "metadata": {},
     "execution_count": 23
    }
   ],
   "source": [
    "yes.head()"
   ]
  },
  {
   "cell_type": "code",
   "execution_count": 24,
   "metadata": {},
   "outputs": [],
   "source": [
    "def clean(x):\n",
    "    return dict(list(x)[0])['text']"
   ]
  },
  {
   "cell_type": "code",
   "execution_count": 25,
   "metadata": {},
   "outputs": [],
   "source": [
    "yes = pd.DataFrame(yes.data.apply(clean))"
   ]
  },
  {
   "cell_type": "code",
   "execution_count": 26,
   "metadata": {},
   "outputs": [
    {
     "output_type": "execute_result",
     "data": {
      "text/plain": [
       "                 data\n",
       "0                 yes\n",
       "1         okay I will\n",
       "2             why not\n",
       "3  yes that's alright\n",
       "4            yes I do"
      ],
      "text/html": "<div>\n<style scoped>\n    .dataframe tbody tr th:only-of-type {\n        vertical-align: middle;\n    }\n\n    .dataframe tbody tr th {\n        vertical-align: top;\n    }\n\n    .dataframe thead th {\n        text-align: right;\n    }\n</style>\n<table border=\"1\" class=\"dataframe\">\n  <thead>\n    <tr style=\"text-align: right;\">\n      <th></th>\n      <th>data</th>\n    </tr>\n  </thead>\n  <tbody>\n    <tr>\n      <th>0</th>\n      <td>yes</td>\n    </tr>\n    <tr>\n      <th>1</th>\n      <td>okay I will</td>\n    </tr>\n    <tr>\n      <th>2</th>\n      <td>why not</td>\n    </tr>\n    <tr>\n      <th>3</th>\n      <td>yes that's alright</td>\n    </tr>\n    <tr>\n      <th>4</th>\n      <td>yes I do</td>\n    </tr>\n  </tbody>\n</table>\n</div>"
     },
     "metadata": {},
     "execution_count": 26
    }
   ],
   "source": [
    "yes.head()"
   ]
  },
  {
   "cell_type": "code",
   "execution_count": 27,
   "metadata": {},
   "outputs": [],
   "source": [
    "no = pd.read_json(\"data\\intents\\Get deployment details - no_usersays_en.json\")"
   ]
  },
  {
   "cell_type": "code",
   "execution_count": 28,
   "metadata": {},
   "outputs": [],
   "source": [
    "no = pd.DataFrame(no.data)"
   ]
  },
  {
   "cell_type": "code",
   "execution_count": 29,
   "metadata": {},
   "outputs": [],
   "source": [
    "no = pd.DataFrame(no.data.apply(clean))"
   ]
  },
  {
   "cell_type": "code",
   "execution_count": 30,
   "metadata": {},
   "outputs": [
    {
     "output_type": "execute_result",
     "data": {
      "text/plain": [
       "            data\n",
       "0  thanks but no\n",
       "1         no way\n",
       "2             no\n",
       "3    no no don't\n",
       "4             na"
      ],
      "text/html": "<div>\n<style scoped>\n    .dataframe tbody tr th:only-of-type {\n        vertical-align: middle;\n    }\n\n    .dataframe tbody tr th {\n        vertical-align: top;\n    }\n\n    .dataframe thead th {\n        text-align: right;\n    }\n</style>\n<table border=\"1\" class=\"dataframe\">\n  <thead>\n    <tr style=\"text-align: right;\">\n      <th></th>\n      <th>data</th>\n    </tr>\n  </thead>\n  <tbody>\n    <tr>\n      <th>0</th>\n      <td>thanks but no</td>\n    </tr>\n    <tr>\n      <th>1</th>\n      <td>no way</td>\n    </tr>\n    <tr>\n      <th>2</th>\n      <td>no</td>\n    </tr>\n    <tr>\n      <th>3</th>\n      <td>no no don't</td>\n    </tr>\n    <tr>\n      <th>4</th>\n      <td>na</td>\n    </tr>\n  </tbody>\n</table>\n</div>"
     },
     "metadata": {},
     "execution_count": 30
    }
   ],
   "source": [
    "no.head()"
   ]
  },
  {
   "cell_type": "code",
   "execution_count": 31,
   "metadata": {},
   "outputs": [],
   "source": [
    "greet = pd.read_json(\"data\\intents\\Default Welcome Intent_usersays_en.json\")"
   ]
  },
  {
   "cell_type": "code",
   "execution_count": 32,
   "metadata": {},
   "outputs": [
    {
     "output_type": "execute_result",
     "data": {
      "text/plain": [
       "                                     id  \\\n",
       "0  d5c7ce2e-b5fa-4c35-bd5c-c5676e046962   \n",
       "1  6cb5bff0-1dfa-45f1-b2d9-14c171264157   \n",
       "2  63729ba7-03ea-4195-b404-223e9347a99c   \n",
       "3  44730b05-ba07-46c5-80de-0054e0082bf1   \n",
       "4  e0134cf2-921b-40db-a379-f12dfee2d802   \n",
       "\n",
       "                                                data  isTemplate  count  \\\n",
       "0  [{'text': 'just going to say hi', 'userDefined...       False      0   \n",
       "1           [{'text': 'heya', 'userDefined': False}]       False      0   \n",
       "2       [{'text': 'hello hi', 'userDefined': False}]       False      0   \n",
       "3          [{'text': 'howdy', 'userDefined': False}]       False      0   \n",
       "4      [{'text': 'hey there', 'userDefined': False}]       False      0   \n",
       "\n",
       "   updated  \n",
       "0        0  \n",
       "1        0  \n",
       "2        0  \n",
       "3        0  \n",
       "4        0  "
      ],
      "text/html": "<div>\n<style scoped>\n    .dataframe tbody tr th:only-of-type {\n        vertical-align: middle;\n    }\n\n    .dataframe tbody tr th {\n        vertical-align: top;\n    }\n\n    .dataframe thead th {\n        text-align: right;\n    }\n</style>\n<table border=\"1\" class=\"dataframe\">\n  <thead>\n    <tr style=\"text-align: right;\">\n      <th></th>\n      <th>id</th>\n      <th>data</th>\n      <th>isTemplate</th>\n      <th>count</th>\n      <th>updated</th>\n    </tr>\n  </thead>\n  <tbody>\n    <tr>\n      <th>0</th>\n      <td>d5c7ce2e-b5fa-4c35-bd5c-c5676e046962</td>\n      <td>[{'text': 'just going to say hi', 'userDefined...</td>\n      <td>False</td>\n      <td>0</td>\n      <td>0</td>\n    </tr>\n    <tr>\n      <th>1</th>\n      <td>6cb5bff0-1dfa-45f1-b2d9-14c171264157</td>\n      <td>[{'text': 'heya', 'userDefined': False}]</td>\n      <td>False</td>\n      <td>0</td>\n      <td>0</td>\n    </tr>\n    <tr>\n      <th>2</th>\n      <td>63729ba7-03ea-4195-b404-223e9347a99c</td>\n      <td>[{'text': 'hello hi', 'userDefined': False}]</td>\n      <td>False</td>\n      <td>0</td>\n      <td>0</td>\n    </tr>\n    <tr>\n      <th>3</th>\n      <td>44730b05-ba07-46c5-80de-0054e0082bf1</td>\n      <td>[{'text': 'howdy', 'userDefined': False}]</td>\n      <td>False</td>\n      <td>0</td>\n      <td>0</td>\n    </tr>\n    <tr>\n      <th>4</th>\n      <td>e0134cf2-921b-40db-a379-f12dfee2d802</td>\n      <td>[{'text': 'hey there', 'userDefined': False}]</td>\n      <td>False</td>\n      <td>0</td>\n      <td>0</td>\n    </tr>\n  </tbody>\n</table>\n</div>"
     },
     "metadata": {},
     "execution_count": 32
    }
   ],
   "source": [
    "greet.head()"
   ]
  },
  {
   "cell_type": "code",
   "execution_count": 33,
   "metadata": {},
   "outputs": [],
   "source": [
    "greet = pd.DataFrame(greet.data)"
   ]
  },
  {
   "cell_type": "code",
   "execution_count": 35,
   "metadata": {},
   "outputs": [],
   "source": [
    "greet = pd.DataFrame(greet.data.apply(clean))"
   ]
  },
  {
   "cell_type": "code",
   "execution_count": 37,
   "metadata": {},
   "outputs": [
    {
     "output_type": "execute_result",
     "data": {
      "text/plain": [
       "                   data\n",
       "0  just going to say hi\n",
       "1                  heya\n",
       "2              hello hi\n",
       "3                 howdy\n",
       "4             hey there"
      ],
      "text/html": "<div>\n<style scoped>\n    .dataframe tbody tr th:only-of-type {\n        vertical-align: middle;\n    }\n\n    .dataframe tbody tr th {\n        vertical-align: top;\n    }\n\n    .dataframe thead th {\n        text-align: right;\n    }\n</style>\n<table border=\"1\" class=\"dataframe\">\n  <thead>\n    <tr style=\"text-align: right;\">\n      <th></th>\n      <th>data</th>\n    </tr>\n  </thead>\n  <tbody>\n    <tr>\n      <th>0</th>\n      <td>just going to say hi</td>\n    </tr>\n    <tr>\n      <th>1</th>\n      <td>heya</td>\n    </tr>\n    <tr>\n      <th>2</th>\n      <td>hello hi</td>\n    </tr>\n    <tr>\n      <th>3</th>\n      <td>howdy</td>\n    </tr>\n    <tr>\n      <th>4</th>\n      <td>hey there</td>\n    </tr>\n  </tbody>\n</table>\n</div>"
     },
     "metadata": {},
     "execution_count": 37
    }
   ],
   "source": [
    "greet.head()"
   ]
  },
  {
   "cell_type": "code",
   "execution_count": 38,
   "metadata": {},
   "outputs": [],
   "source": [
    "yes['class'] = \"yes\"\n",
    "no['class'] = \"no\"\n",
    "greet['class'] = \"hi\""
   ]
  },
  {
   "cell_type": "code",
   "execution_count": 39,
   "metadata": {},
   "outputs": [],
   "source": [
    "welc = yes.append(no, ignore_index=True)\n",
    "welc = welc.append(greet, ignore_index=True)"
   ]
  },
  {
   "cell_type": "code",
   "execution_count": 41,
   "metadata": {},
   "outputs": [
    {
     "output_type": "execute_result",
     "data": {
      "text/plain": [
       "            data class\n",
       "23          sure   yes\n",
       "25   sounds good   yes\n",
       "89         howdy    hi\n",
       "74    not at all    no\n",
       "95         hello    hi\n",
       "5        exactly   yes\n",
       "88      hello hi    hi\n",
       "75      no never    no\n",
       "101     hi there    hi\n",
       "98   hello again    hi"
      ],
      "text/html": "<div>\n<style scoped>\n    .dataframe tbody tr th:only-of-type {\n        vertical-align: middle;\n    }\n\n    .dataframe tbody tr th {\n        vertical-align: top;\n    }\n\n    .dataframe thead th {\n        text-align: right;\n    }\n</style>\n<table border=\"1\" class=\"dataframe\">\n  <thead>\n    <tr style=\"text-align: right;\">\n      <th></th>\n      <th>data</th>\n      <th>class</th>\n    </tr>\n  </thead>\n  <tbody>\n    <tr>\n      <th>23</th>\n      <td>sure</td>\n      <td>yes</td>\n    </tr>\n    <tr>\n      <th>25</th>\n      <td>sounds good</td>\n      <td>yes</td>\n    </tr>\n    <tr>\n      <th>89</th>\n      <td>howdy</td>\n      <td>hi</td>\n    </tr>\n    <tr>\n      <th>74</th>\n      <td>not at all</td>\n      <td>no</td>\n    </tr>\n    <tr>\n      <th>95</th>\n      <td>hello</td>\n      <td>hi</td>\n    </tr>\n    <tr>\n      <th>5</th>\n      <td>exactly</td>\n      <td>yes</td>\n    </tr>\n    <tr>\n      <th>88</th>\n      <td>hello hi</td>\n      <td>hi</td>\n    </tr>\n    <tr>\n      <th>75</th>\n      <td>no never</td>\n      <td>no</td>\n    </tr>\n    <tr>\n      <th>101</th>\n      <td>hi there</td>\n      <td>hi</td>\n    </tr>\n    <tr>\n      <th>98</th>\n      <td>hello again</td>\n      <td>hi</td>\n    </tr>\n  </tbody>\n</table>\n</div>"
     },
     "metadata": {},
     "execution_count": 41
    }
   ],
   "source": [
    "welc.sample(10)"
   ]
  },
  {
   "cell_type": "code",
   "execution_count": 42,
   "metadata": {},
   "outputs": [
    {
     "output_type": "stream",
     "name": "stdout",
     "text": [
      "<class 'pandas.core.frame.DataFrame'>\nRangeIndex: 103 entries, 0 to 102\nData columns (total 2 columns):\n #   Column  Non-Null Count  Dtype \n---  ------  --------------  ----- \n 0   data    103 non-null    object\n 1   class   103 non-null    object\ndtypes: object(2)\nmemory usage: 1.7+ KB\n"
     ]
    }
   ],
   "source": [
    "welc.info()"
   ]
  },
  {
   "cell_type": "code",
   "execution_count": 44,
   "metadata": {},
   "outputs": [],
   "source": [
    "welc.to_csv(\"./data/clean_csv/welc.csv\", index=False)"
   ]
  },
  {
   "cell_type": "code",
   "execution_count": null,
   "metadata": {},
   "outputs": [],
   "source": []
  }
 ]
}